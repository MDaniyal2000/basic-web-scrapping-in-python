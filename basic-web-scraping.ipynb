{
 "cells": [
  {
   "cell_type": "code",
   "execution_count": 1,
   "metadata": {},
   "outputs": [],
   "source": [
    "import requests\n",
    "from bs4 import BeautifulSoup\n",
    "import pandas as pd\n",
    "\n",
    "page = requests.get('https://www.fasttrack.co.uk/league-tables/fast-track-100/league-table/')\n",
    "\n",
    "html = BeautifulSoup(page.text, 'html.parser')\n",
    "\n",
    "table = html.find('table', {'class': 'tableSorter2'})\n",
    "\n",
    "tbody = table.find('tbody')\n",
    "\n",
    "table_rows = tbody.find_all('tr')\n",
    "\n",
    "data = []\n",
    "\n",
    "for row in table_rows:\n",
    "    row_data = []\n",
    "    \n",
    "    table_data = row.find_all('td')\n",
    "    \n",
    "    for i, td in enumerate(table_data):\n",
    "        if i == 1:\n",
    "            company_name = (td.find('a')).getText()\n",
    "            company_description = (td.getText()).replace(company_name,'')\n",
    "\n",
    "            company_info_page_link = td.find('a').get('href')\n",
    "            company_info_page = requests.get(company_info_page_link)\n",
    "            company_info_html = BeautifulSoup(company_info_page.text, 'html.parser')\n",
    "            company_info_table = company_info_html.find('table')\n",
    "            company_info_table_rows = company_info_table.find_all('tr')\n",
    "            company_website_address = company_info_table_rows[-1].find('a').get('href')\n",
    "\n",
    "            row_data.append(company_name)\n",
    "            row_data.append(company_description)\n",
    "            row_data.append(company_website_address)\n",
    "        else:\n",
    "            row_data.append(td.getText())\n",
    "        \n",
    "    data.append(row_data)\n",
    "    print\n",
    "    \n",
    "df = pd.DataFrame(data)\n",
    "df.columns = ['Rank', 'Company Name', 'Company Description', 'Website', 'Location', 'Year End', 'Sales Rise', 'Latest sales', 'Staff', 'Comment']\n",
    "df.to_csv('results.csv', index=None, header=True)"
   ]
  },
  {
   "cell_type": "code",
   "execution_count": null,
   "metadata": {},
   "outputs": [],
   "source": []
  }
 ],
 "metadata": {
  "kernelspec": {
   "display_name": "Python 3",
   "language": "python",
   "name": "python3"
  },
  "language_info": {
   "codemirror_mode": {
    "name": "ipython",
    "version": 3
   },
   "file_extension": ".py",
   "mimetype": "text/x-python",
   "name": "python",
   "nbconvert_exporter": "python",
   "pygments_lexer": "ipython3",
   "version": "3.7.4"
  }
 },
 "nbformat": 4,
 "nbformat_minor": 2
}
